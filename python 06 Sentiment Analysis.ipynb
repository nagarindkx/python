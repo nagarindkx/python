{
 "cells": [
  {
   "cell_type": "markdown",
   "metadata": {},
   "source": [
    "## Input"
   ]
  },
  {
   "cell_type": "code",
   "execution_count": 80,
   "metadata": {},
   "outputs": [],
   "source": [
    "labels = {0:\"Negative\", 1:\"Neutral\", 2:\"Positive\"}\n",
    "negative = [\n",
    "    [\"I hate it\", 0],\n",
    "    [\"I don't like it so much\", 0],\n",
    "    [\"No good at all\", 0]\n",
    "]\n",
    "neutral = [\n",
    "    [\"So so\", 1],\n",
    "    [\"No bad no good\", 1],\n",
    "    [\"Feel nothing\", 1]\n",
    "]\n",
    "positive = [\n",
    "    [\"I love it\", 2],\n",
    "    [\"I like it so much\", 2],\n",
    "    [\"No one can overcome\", 2]\n",
    "]"
   ]
  },
  {
   "cell_type": "code",
   "execution_count": 81,
   "metadata": {},
   "outputs": [
    {
     "data": {
      "text/plain": [
       "array([['I hate it', '0'],\n",
       "       [\"I don't like it so much\", '0'],\n",
       "       ['No good at all', '0'],\n",
       "       ['So so', '1'],\n",
       "       ['No bad no good', '1'],\n",
       "       ['Feel nothing', '1'],\n",
       "       ['I love it', '2'],\n",
       "       ['I like it so much', '2'],\n",
       "       ['No one can overcome', '2']], dtype='<U23')"
      ]
     },
     "execution_count": 81,
     "metadata": {},
     "output_type": "execute_result"
    }
   ],
   "source": [
    "import numpy as np\n",
    "data = np.array( negative + neutral + positive)\n",
    "data"
   ]
  },
  {
   "cell_type": "markdown",
   "metadata": {},
   "source": [
    "## Tokenization"
   ]
  },
  {
   "cell_type": "code",
   "execution_count": 82,
   "metadata": {},
   "outputs": [
    {
     "data": {
      "text/plain": [
       "{'i': 1,\n",
       " 'it': 2,\n",
       " 'so': 3,\n",
       " 'no': 4,\n",
       " 'like': 5,\n",
       " 'much': 6,\n",
       " 'good': 7,\n",
       " 'hate': 8,\n",
       " \"don't\": 9,\n",
       " 'at': 10,\n",
       " 'all': 11,\n",
       " 'bad': 12,\n",
       " 'feel': 13,\n",
       " 'nothing': 14,\n",
       " 'love': 15,\n",
       " 'one': 16,\n",
       " 'can': 17,\n",
       " 'overcome': 18}"
      ]
     },
     "execution_count": 82,
     "metadata": {},
     "output_type": "execute_result"
    }
   ],
   "source": [
    "from keras.preprocessing.text import Tokenizer\n",
    "tokenizer = Tokenizer()\n",
    "tokenizer.fit_on_texts(data[:,0])\n",
    "tokenizer.word_index"
   ]
  },
  {
   "cell_type": "code",
   "execution_count": 83,
   "metadata": {},
   "outputs": [
    {
     "name": "stdout",
     "output_type": "stream",
     "text": [
      "Unique lables =  {'2', '1', '0'}\n",
      "[[1. 0. 0.]\n",
      " [1. 0. 0.]\n",
      " [1. 0. 0.]\n",
      " [0. 1. 0.]\n",
      " [0. 1. 0.]\n",
      " [0. 1. 0.]\n",
      " [0. 0. 1.]\n",
      " [0. 0. 1.]\n",
      " [0. 0. 1.]]\n",
      "[1. 0. 0.] => 0\n",
      "[0. 1. 0.] => 1\n",
      "[0. 0. 1.] => 2\n"
     ]
    }
   ],
   "source": [
    "from keras.utils import to_categorical\n",
    "print(\"Unique lables = \" , set(data[:,1]))\n",
    "y=to_categorical([ int(i) for i in data[:,1]])\n",
    "print(y)\n",
    "print(y[0], \"=>\", np.argmax(y[0]))\n",
    "print(y[3], \"=>\", np.argmax(y[3]))\n",
    "print(y[7], \"=>\", np.argmax(y[7]))"
   ]
  },
  {
   "cell_type": "code",
   "execution_count": 92,
   "metadata": {},
   "outputs": [
    {
     "name": "stdout",
     "output_type": "stream",
     "text": [
      "Raw Texts to Sequence:\n",
      "[1, 8, 2]\n",
      "[1, 9, 5, 2, 3, 6]\n",
      "[4, 7, 10, 11]\n",
      "[3, 3]\n",
      "[4, 12, 4, 7]\n",
      "[13, 14]\n",
      "[1, 15, 2]\n",
      "[1, 5, 2, 3, 6]\n",
      "[4, 16, 17, 18]\n",
      "max sentense's length =  6\n",
      "Squence Padding at maxlen words, post padding:\n",
      " [[ 1  8  2  0  0  0]\n",
      " [ 1  9  5  2  3  6]\n",
      " [ 4  7 10 11  0  0]\n",
      " [ 3  3  0  0  0  0]\n",
      " [ 4 12  4  7  0  0]\n",
      " [13 14  0  0  0  0]\n",
      " [ 1 15  2  0  0  0]\n",
      " [ 1  5  2  3  6  0]\n",
      " [ 4 16 17 18  0  0]]\n"
     ]
    }
   ],
   "source": [
    "from keras.preprocessing.sequence import pad_sequences\n",
    "tts = tokenizer.texts_to_sequences(data[:,0])\n",
    "print(\"Raw Texts to Sequence:\")\n",
    "for s in tts: print(s)\n",
    "maxlen = max([len(s) for s in tts])\n",
    "print(\"max sentense's length = \" , maxlen)\n",
    "x = pad_sequences(tts, maxlen=maxlen, padding=\"post\")\n",
    "print(\"Squence Padding at maxlen words, post padding:\\n\", x)"
   ]
  },
  {
   "cell_type": "code",
   "execution_count": 189,
   "metadata": {},
   "outputs": [
    {
     "name": "stdout",
     "output_type": "stream",
     "text": [
      "y_predict shape:\n",
      " (9, 6, 2)\n",
      "[[-0.0177981  -0.00351046]\n",
      " [ 0.00365622 -0.00287535]\n",
      " [ 0.01436437 -0.00908862]\n",
      " [ 0.01795897  0.01882353]\n",
      " [ 0.01795897  0.01882353]\n",
      " [ 0.01795897  0.01882353]]\n",
      "-0.017798103\n",
      "_________________________________________________________________\n",
      "Layer (type)                 Output Shape              Param #   \n",
      "=================================================================\n",
      "embedding_80 (Embedding)     (None, 6, 2)              38        \n",
      "=================================================================\n",
      "Total params: 38\n",
      "Trainable params: 38\n",
      "Non-trainable params: 0\n",
      "_________________________________________________________________\n"
     ]
    }
   ],
   "source": [
    "from keras.models import Sequential\n",
    "from keras.layers import Embedding\n",
    "\n",
    "vocab_size = len(tokenizer.word_index) +1\n",
    "\n",
    "# Fix Random Weight\n",
    "# For reproducable\n",
    "np.random.seed(7)\n",
    "\n",
    "model = Sequential()\n",
    "model.add(Embedding(input_dim=vocab_size,\n",
    "                    output_dim=2,\n",
    "                    input_length=maxlen))\n",
    "\n",
    "model.compile(loss='categorical_crossentropy', optimizer='adam')\n",
    "y_predict = model.predict(x)\n",
    "\n",
    "print(\"y_predict shape:\\n\", y_predict.shape)\n",
    "print(y_predict[0])\n",
    "print(min(y_predict[0][0]))\n",
    "model.summary()"
   ]
  },
  {
   "cell_type": "code",
   "execution_count": 266,
   "metadata": {},
   "outputs": [],
   "source": [
    "import matplotlib.pyplot as plt\n",
    "import itertools\n",
    "def plot_confusion_matrix(cm, classes,\n",
    "                          normalize=False,\n",
    "                          title='Confusion matrix',\n",
    "                          cmap=plt.cm.Blues):\n",
    "    \"\"\"\n",
    "    This function prints and plots the confusion matrix.\n",
    "    Normalization can be applied by setting `normalize=True`.\n",
    "    \"\"\"\n",
    "    if normalize:\n",
    "        cm = cm.astype('float') / cm.sum(axis=1)[:, np.newaxis]\n",
    "        print(\"Normalized confusion matrix\")\n",
    "    else:\n",
    "        print('Confusion matrix, without normalization')\n",
    "\n",
    "    print(cm)\n",
    "\n",
    "    plt.imshow(cm, interpolation='nearest', cmap=cmap)\n",
    "    plt.title(title)\n",
    "    plt.colorbar()\n",
    "    tick_marks = np.arange(len(classes))\n",
    "    plt.xticks(tick_marks, classes, rotation=45)\n",
    "    plt.yticks(tick_marks, classes)\n",
    "\n",
    "    fmt = '.2f' if normalize else 'd'\n",
    "    thresh = cm.max() / 2.\n",
    "    for i, j in itertools.product(range(cm.shape[0]), range(cm.shape[1])):\n",
    "        plt.text(j, i, format(cm[i, j], fmt),\n",
    "                 horizontalalignment=\"center\",\n",
    "                 color=\"white\" if cm[i, j] > thresh else \"black\")\n",
    "\n",
    "    plt.ylabel('True label')\n",
    "    plt.xlabel('Predicted label')\n",
    "    plt.tight_layout()"
   ]
  },
  {
   "cell_type": "code",
   "execution_count": 268,
   "metadata": {},
   "outputs": [
    {
     "name": "stdout",
     "output_type": "stream",
     "text": [
      "_________________________________________________________________\n",
      "Layer (type)                 Output Shape              Param #   \n",
      "=================================================================\n",
      "embedding_157 (Embedding)    (None, 6, 10)             190       \n",
      "_________________________________________________________________\n",
      "flatten_29 (Flatten)         (None, 60)                0         \n",
      "_________________________________________________________________\n",
      "dense_89 (Dense)             (None, 20)                1220      \n",
      "_________________________________________________________________\n",
      "dense_90 (Dense)             (None, 3)                 63        \n",
      "=================================================================\n",
      "Total params: 1,473\n",
      "Trainable params: 1,473\n",
      "Non-trainable params: 0\n",
      "_________________________________________________________________\n",
      "Epoch 1/6\n",
      "9/9 [==============================] - 6s 679ms/step - loss: 7.6817 - acc: 0.4444\n",
      "Epoch 2/6\n",
      "9/9 [==============================] - 0s 556us/step - loss: 7.4764 - acc: 0.4444\n",
      "Epoch 3/6\n",
      "9/9 [==============================] - 0s 668us/step - loss: 7.3725 - acc: 0.4444\n",
      "Epoch 4/6\n",
      "9/9 [==============================] - 0s 777us/step - loss: 7.2839 - acc: 0.4444\n",
      "Epoch 5/6\n",
      "9/9 [==============================] - 0s 778us/step - loss: 7.2461 - acc: 0.5556\n",
      "Epoch 6/6\n",
      "9/9 [==============================] - 0s 778us/step - loss: 5.4312 - acc: 0.5556\n",
      "Normalized confusion matrix\n",
      "[[1. 0. 0.]\n",
      " [1. 0. 0.]\n",
      " [1. 0. 0.]]\n"
     ]
    },
    {
     "data": {
      "image/png": "[encoded data removed]",
      "text/plain": [
       "<Figure size 432x288 with 2 Axes>"
      ]
     },
     "metadata": {
      "needs_background": "light"
     },
     "output_type": "display_data"
    }
   ],
   "source": [
    "from keras.models import Sequential\n",
    "from keras.layers import Embedding, Flatten, Dense\n",
    "from sklearn.metrics import confusion_matrix\n",
    "\n",
    "vocab_size = len(tokenizer.word_index) +1\n",
    "\n",
    "# Fix Random Weight\n",
    "# For reproducable\n",
    "np.random.seed(7)\n",
    "\n",
    "model = Sequential()\n",
    "model.add(Embedding(input_dim=vocab_size,\n",
    "                    output_dim=10,\n",
    "                    input_length=maxlen))\n",
    "model.add(Flatten())\n",
    "model.add(Dense(20, activation='relu'))\n",
    "model.add(Dense(3, activation='relu'))\n",
    "model.compile(loss='categorical_crossentropy', optimizer='adam', metrics=['accuracy'])\n",
    "\n",
    "model.summary()\n",
    "\n",
    "model.fit(x,y, epochs=6)\n",
    "\n",
    "y_predict = model.predict(x)\n",
    "\n",
    "y_t=[ np.argmax(i) for i in y]\n",
    "y_p=[ np.argmax(i) for i in y_predict]\n",
    "    \n",
    "cm=confusion_matrix(y_t, y_p)\n",
    "plot_confusion_matrix(cm=cm, classes=['0','1','2'], normalize=True)\n",
    "    "
   ]
  },
  {
   "cell_type": "code",
   "execution_count": 269,
   "metadata": {},
   "outputs": [
    {
     "name": "stdout",
     "output_type": "stream",
     "text": [
      "_________________________________________________________________\n",
      "Layer (type)                 Output Shape              Param #   \n",
      "=================================================================\n",
      "embedding_158 (Embedding)    (None, 6, 10)             190       \n",
      "_________________________________________________________________\n",
      "lstm_48 (LSTM)               (None, 20)                2480      \n",
      "_________________________________________________________________\n",
      "dense_91 (Dense)             (None, 3)                 63        \n",
      "=================================================================\n",
      "Total params: 2,733\n",
      "Trainable params: 2,733\n",
      "Non-trainable params: 0\n",
      "_________________________________________________________________\n",
      "Epoch 1/10\n",
      "9/9 [==============================] - 7s 801ms/step - loss: 2.6335 - acc: 0.3333\n",
      "Epoch 2/10\n",
      "9/9 [==============================] - 0s 1ms/step - loss: 2.6034 - acc: 0.5556\n",
      "Epoch 3/10\n",
      "9/9 [==============================] - 0s 2ms/step - loss: 2.5435 - acc: 0.4444\n",
      "Epoch 4/10\n",
      "9/9 [==============================] - 0s 2ms/step - loss: 2.5143 - acc: 0.5556\n",
      "Epoch 5/10\n",
      "9/9 [==============================] - 0s 2ms/step - loss: 2.4566 - acc: 0.5556\n",
      "Epoch 6/10\n",
      "9/9 [==============================] - 0s 1ms/step - loss: 2.3978 - acc: 0.5556\n",
      "Epoch 7/10\n",
      "9/9 [==============================] - 0s 2ms/step - loss: 2.3681 - acc: 0.5556\n",
      "Epoch 8/10\n",
      "9/9 [==============================] - 0s 2ms/step - loss: 2.3241 - acc: 0.5556\n",
      "Epoch 9/10\n",
      "9/9 [==============================] - 0s 2ms/step - loss: 2.2749 - acc: 0.5556\n",
      "Epoch 10/10\n",
      "9/9 [==============================] - 0s 1ms/step - loss: 2.1813 - acc: 0.7778\n",
      "Normalized confusion matrix\n",
      "[[0.66666667 0.         0.33333333]\n",
      " [0.         1.         0.        ]\n",
      " [0.         0.         1.        ]]\n"
     ]
    },
    {
     "data": {
      "image/png": "[encoded data removed]",
      "text/plain": [
       "<Figure size 432x288 with 2 Axes>"
      ]
     },
     "metadata": {
      "needs_background": "light"
     },
     "output_type": "display_data"
    }
   ],
   "source": [
    "from keras.models import Sequential\n",
    "from keras.layers import Embedding, Flatten, Dense, LSTM\n",
    "from sklearn.metrics import confusion_matrix\n",
    "\n",
    "vocab_size = len(tokenizer.word_index) +1\n",
    "\n",
    "# Fix Random Weight\n",
    "# For reproducable\n",
    "np.random.seed(7)\n",
    "\n",
    "model = Sequential()\n",
    "model.add(Embedding(input_dim=vocab_size,\n",
    "                    output_dim=10,\n",
    "                    input_length=maxlen))\n",
    "#model.add(Flatten())\n",
    "#model.add(Dense(20, activation='relu'))\n",
    "model.add(LSTM(20))\n",
    "model.add(Dense(3, activation='relu'))\n",
    "model.compile(loss='categorical_crossentropy', optimizer='adam', metrics=['accuracy'])\n",
    "\n",
    "model.summary()\n",
    "\n",
    "model.fit(x,y, epochs=10)\n",
    "\n",
    "y_predict = model.predict(x)\n",
    "\n",
    "y_t=[ np.argmax(i) for i in y]\n",
    "y_p=[ np.argmax(i) for i in y_predict]\n",
    "    \n",
    "cm=confusion_matrix(y_t, y_p)\n",
    "plot_confusion_matrix(cm=cm, classes=['0','1','2'], normalize=True)\n",
    "    "
   ]
  },
  {
   "cell_type": "code",
   "execution_count": 281,
   "metadata": {},
   "outputs": [],
   "source": [
    "test=[\n",
    "    ['I do love it',2],\n",
    "    ['we do love it',2],\n",
    "    ['Wow! it is great!',2],\n",
    "    ['I have no idea',1],\n",
    "    ['so so',1],\n",
    "    ['no idea',1],\n",
    "    ['totally worst',0],\n",
    "    ['bad movie',0],\n",
    "    ['god damn!',0],\n",
    "]\n",
    "data_test = np.array(test)\n",
    "x_data_test = data_test[:,0]\n",
    "y_data_test = data_test[:,1]"
   ]
  },
  {
   "cell_type": "code",
   "execution_count": 292,
   "metadata": {},
   "outputs": [
    {
     "name": "stdout",
     "output_type": "stream",
     "text": [
      "Normalized confusion matrix\n",
      "[[0.66666667 0.33333333 0.        ]\n",
      " [0.         1.         0.        ]\n",
      " [0.         0.33333333 0.66666667]]\n"
     ]
    },
    {
     "data": {
      "image/png": "[encoded data removed]",
      "text/plain": [
       "<Figure size 432x288 with 2 Axes>"
      ]
     },
     "metadata": {
      "needs_background": "light"
     },
     "output_type": "display_data"
    }
   ],
   "source": [
    "from keras.preprocessing.text import text_to_word_sequence\n",
    "x_test=[]\n",
    "for t in x_data_test:\n",
    "    s = []\n",
    "    for w in text_to_word_sequence(t):\n",
    "        if w in tokenizer.word_index:\n",
    "            s.append(tokenizer.word_index[w])\n",
    "        else:\n",
    "            s.append(0)\n",
    "    x_test.append(s)\n",
    "x_test=pad_sequences(x_test,maxlen=maxlen,padding='post')\n",
    "y_test=to_categorical(y_data_test)\n",
    "\n",
    "y_predict = model.predict(x_test)\n",
    "\n",
    "y_t=[ np.argmax(i) for i in y_test]\n",
    "y_p=[ np.argmax(i) for i in y_predict]\n",
    "    \n",
    "cm=confusion_matrix(y_t, y_p)\n",
    "plot_confusion_matrix(cm=cm, classes=['0','1','2'], normalize=True)"
   ]
  }
 ],
 "metadata": {
  "kernelspec": {
   "display_name": "Python 3",
   "language": "python",
   "name": "python3"
  },
  "language_info": {
   "codemirror_mode": {
    "name": "ipython",
    "version": 3
   },
   "file_extension": ".py",
   "mimetype": "text/x-python",
   "name": "python",
   "nbconvert_exporter": "python",
   "pygments_lexer": "ipython3",
   "version": "3.6.6"
  }
 },
 "nbformat": 4,
 "nbformat_minor": 2
}
