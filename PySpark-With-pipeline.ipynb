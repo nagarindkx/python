{
 "cells": [
  {
   "cell_type": "code",
   "execution_count": 36,
   "metadata": {
    "collapsed": false,
    "deletable": true,
    "editable": true
   },
   "outputs": [
    {
     "data": {
      "text/plain": [
       "u'2.2.1'"
      ]
     },
     "execution_count": 36,
     "metadata": {},
     "output_type": "execute_result"
    }
   ],
   "source": [
    "spark.version"
   ]
  },
  {
   "cell_type": "code",
   "execution_count": 37,
   "metadata": {
    "collapsed": false,
    "deletable": true,
    "editable": true
   },
   "outputs": [
    {
     "name": "stdout",
     "output_type": "stream",
     "text": [
      "wget: /usr/local/lib/libcrypto.so.1.0.0: no version information available (required by wget)\n",
      "wget: /usr/local/lib/libssl.so.1.0.0: no version information available (required by wget)\n",
      "wget: /usr/local/lib/libssl.so.1.0.0: no version information available (required by wget)\n",
      "--2018-07-16 08:04:33--  https://archive.ics.uci.edu/ml/machine-learning-databases/iris/iris.data\n",
      "Resolving archive.ics.uci.edu (archive.ics.uci.edu)... 128.195.10.249\n",
      "Connecting to archive.ics.uci.edu (archive.ics.uci.edu)|128.195.10.249|:443... connected.\n",
      "HTTP request sent, awaiting response... 200 OK\n",
      "Length: 4551 (4.4K) [text/plain]\n",
      "Saving to: ‘iris.data’\n",
      "\n",
      "iris.data           100%[===================>]   4.44K  --.-KB/s    in 0s      \n",
      "\n",
      "2018-07-16 08:04:34 (84.5 MB/s) - ‘iris.data’ saved [4551/4551]\n",
      "\n"
     ]
    }
   ],
   "source": [
    "! wget https://archive.ics.uci.edu/ml/machine-learning-databases/iris/iris.data"
   ]
  },
  {
   "cell_type": "code",
   "execution_count": null,
   "metadata": {
    "collapsed": false,
    "deletable": true,
    "editable": true
   },
   "outputs": [],
   "source": [
    "! hdfs dfs -put iris.data /"
   ]
  },
  {
   "cell_type": "code",
   "execution_count": 38,
   "metadata": {
    "collapsed": false,
    "deletable": true,
    "editable": true
   },
   "outputs": [
    {
     "name": "stdout",
     "output_type": "stream",
     "text": [
      "18/07/16 08:04:42 INFO gcs.GoogleHadoopFileSystemBase: GHFS version: 1.6.7-hadoop2\n",
      "Found 4 items\n",
      "-rw-r--r--   2 root   hadoop       4551 2018-07-16 07:06 /iris.data\n",
      "drwxrwxrwt   - mapred hadoop          0 2018-07-16 06:34 /mapred\n",
      "drwxrwxrwt   - mapred hadoop          0 2018-07-16 06:35 /tmp\n",
      "drwxrwxrwt   - hdfs   hadoop          0 2018-07-16 07:05 /user\n"
     ]
    }
   ],
   "source": [
    "! hdfs dfs -ls /"
   ]
  },
  {
   "cell_type": "code",
   "execution_count": null,
   "metadata": {
    "collapsed": false,
    "deletable": true,
    "editable": true
   },
   "outputs": [],
   "source": [
    "# Import Libaries\n",
    "from pyspark.ml import Pipeline\n",
    "from pyspark.ml.evaluation import MulticlassClassificationEvaluator\n",
    "from pyspark.ml.classification import LogisticRegression\n",
    "from pyspark.ml.tuning import ParamGridBuilder, CrossValidator\n",
    "from pyspark.ml.feature import VectorAssembler\n",
    "from pyspark.sql.types import *"
   ]
  },
  {
   "cell_type": "code",
   "execution_count": 39,
   "metadata": {
    "collapsed": false,
    "deletable": true,
    "editable": true
   },
   "outputs": [],
   "source": [
    "# get into DataFrame\n",
    "csvFile = spark.read.csv('/iris.data', inferSchema=True)\n",
    "diz = {\"Iris-setosa\":\"1\", \"Iris-versicolor\":\"2\", \"Iris-virginica\":\"3\" }\n",
    "df = csvFile.na.replace(diz,1,\"_c4\")\n",
    "df2 = df.withColumn(\"label\",df[\"_c4\"].cast(IntegerType())) \\\n",
    "  .withColumnRenamed(\"_c0\",\"sepal_length\") \\\n",
    "  .withColumnRenamed(\"_c1\",\"sepal_width\") \\\n",
    "  .withColumnRenamed(\"_c2\",\"petal_length\") \\\n",
    "  .withColumnRenamed(\"_c3\",\"petal_width\") \n",
    "train,test = df2.randomSplit([0.75,0.25])"
   ]
  },
  {
   "cell_type": "code",
   "execution_count": 29,
   "metadata": {
    "collapsed": false,
    "deletable": true,
    "editable": true
   },
   "outputs": [
    {
     "name": "stdout",
     "output_type": "stream",
     "text": [
      "root\n",
      " |-- sepal_length: double (nullable = true)\n",
      " |-- sepal_width: double (nullable = true)\n",
      " |-- petal_length: double (nullable = true)\n",
      " |-- petal_width: double (nullable = true)\n",
      " |-- _c4: string (nullable = true)\n",
      " |-- label: integer (nullable = true)\n",
      "\n"
     ]
    }
   ],
   "source": [
    "df2.printSchema()"
   ]
  },
  {
   "cell_type": "code",
   "execution_count": 30,
   "metadata": {
    "collapsed": false,
    "deletable": true,
    "editable": true
   },
   "outputs": [
    {
     "name": "stdout",
     "output_type": "stream",
     "text": [
      "+------------+-----------+------------+-----------+---+-----+\n",
      "|sepal_length|sepal_width|petal_length|petal_width|_c4|label|\n",
      "+------------+-----------+------------+-----------+---+-----+\n",
      "|         5.1|        3.5|         1.4|        0.2|  1|    1|\n",
      "|         4.9|        3.0|         1.4|        0.2|  1|    1|\n",
      "|         4.7|        3.2|         1.3|        0.2|  1|    1|\n",
      "|         4.6|        3.1|         1.5|        0.2|  1|    1|\n",
      "|         5.0|        3.6|         1.4|        0.2|  1|    1|\n",
      "|         5.4|        3.9|         1.7|        0.4|  1|    1|\n",
      "|         4.6|        3.4|         1.4|        0.3|  1|    1|\n",
      "|         5.0|        3.4|         1.5|        0.2|  1|    1|\n",
      "|         4.4|        2.9|         1.4|        0.2|  1|    1|\n",
      "|         4.9|        3.1|         1.5|        0.1|  1|    1|\n",
      "|         5.4|        3.7|         1.5|        0.2|  1|    1|\n",
      "|         4.8|        3.4|         1.6|        0.2|  1|    1|\n",
      "|         4.8|        3.0|         1.4|        0.1|  1|    1|\n",
      "|         4.3|        3.0|         1.1|        0.1|  1|    1|\n",
      "|         5.8|        4.0|         1.2|        0.2|  1|    1|\n",
      "|         5.7|        4.4|         1.5|        0.4|  1|    1|\n",
      "|         5.4|        3.9|         1.3|        0.4|  1|    1|\n",
      "|         5.1|        3.5|         1.4|        0.3|  1|    1|\n",
      "|         5.7|        3.8|         1.7|        0.3|  1|    1|\n",
      "|         5.1|        3.8|         1.5|        0.3|  1|    1|\n",
      "+------------+-----------+------------+-----------+---+-----+\n",
      "only showing top 20 rows\n",
      "\n"
     ]
    }
   ],
   "source": [
    "df2.show()"
   ]
  },
  {
   "cell_type": "code",
   "execution_count": 31,
   "metadata": {
    "collapsed": false,
    "deletable": true,
    "editable": true
   },
   "outputs": [],
   "source": [
    "# Model\n",
    "assembler = VectorAssembler(\n",
    "    inputCols=[\"sepal_length\",\"sepal_width\",\"petal_length\",\"petal_width\"],\n",
    "    outputCol=\"features\")\n",
    "lr = LogisticRegression(labelCol=\"label\", predictionCol=\"prediction\")\n",
    "paramGrid = ParamGridBuilder().build()\n",
    "\n",
    "#Pipeline\n",
    "pipeline = Pipeline(stages=[assembler, lr])"
   ]
  },
  {
   "cell_type": "code",
   "execution_count": 32,
   "metadata": {
    "collapsed": false,
    "deletable": true,
    "editable": true
   },
   "outputs": [],
   "source": [
    "model = pipeline.fit(train)\n",
    "predictions = model.transform(train)"
   ]
  },
  {
   "cell_type": "code",
   "execution_count": 33,
   "metadata": {
    "collapsed": false,
    "deletable": true,
    "editable": true
   },
   "outputs": [],
   "source": [
    "evaluator=MulticlassClassificationEvaluator(predictionCol=\"prediction\", labelCol=\"label\")"
   ]
  },
  {
   "cell_type": "code",
   "execution_count": 34,
   "metadata": {
    "collapsed": false,
    "deletable": true,
    "editable": true
   },
   "outputs": [
    {
     "data": {
      "text/plain": [
       "1.0"
      ]
     },
     "execution_count": 34,
     "metadata": {},
     "output_type": "execute_result"
    }
   ],
   "source": [
    "evaluator.evaluate(predictions)"
   ]
  },
  {
   "cell_type": "code",
   "execution_count": 35,
   "metadata": {
    "collapsed": false,
    "deletable": true,
    "editable": true
   },
   "outputs": [
    {
     "data": {
      "text/plain": [
       "0.9114149008885851"
      ]
     },
     "execution_count": 35,
     "metadata": {},
     "output_type": "execute_result"
    }
   ],
   "source": [
    "evaluator.evaluate(model.transform(test))"
   ]
  },
  {
   "cell_type": "code",
   "execution_count": null,
   "metadata": {
    "collapsed": true,
    "deletable": true,
    "editable": true
   },
   "outputs": [],
   "source": []
  }
 ],
 "metadata": {
  "kernelspec": {
   "display_name": "Python 2",
   "language": "python",
   "name": "python2"
  },
  "language_info": {
   "codemirror_mode": {
    "name": "ipython",
    "version": 2
   },
   "file_extension": ".py",
   "mimetype": "text/x-python",
   "name": "python",
   "nbconvert_exporter": "python",
   "pygments_lexer": "ipython2",
   "version": "2.7.15"
  }
 },
 "nbformat": 4,
 "nbformat_minor": 2
}
